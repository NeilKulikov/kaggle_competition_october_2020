{
 "cells": [
  {
   "cell_type": "code",
   "execution_count": 1,
   "metadata": {},
   "outputs": [],
   "source": [
    "import numpy as np\n",
    "import matplotlib.pyplot as plt"
   ]
  },
  {
   "cell_type": "code",
   "execution_count": 2,
   "metadata": {},
   "outputs": [],
   "source": [
    "import pandas as pd\n",
    "import seaborn as sb"
   ]
  },
  {
   "cell_type": "code",
   "execution_count": 3,
   "metadata": {},
   "outputs": [],
   "source": [
    "import sklearn as sk\n",
    "from sklearn.neighbors import KNeighborsClassifier\n",
    "from sklearn.metrics import roc_auc_score"
   ]
  },
  {
   "cell_type": "code",
   "execution_count": 4,
   "metadata": {},
   "outputs": [],
   "source": [
    "from scipy.sparse import dok_matrix, csr_matrix"
   ]
  },
  {
   "cell_type": "code",
   "execution_count": 5,
   "metadata": {},
   "outputs": [
    {
     "data": {
      "text/html": [
       "<div>\n",
       "<style scoped>\n",
       "    .dataframe tbody tr th:only-of-type {\n",
       "        vertical-align: middle;\n",
       "    }\n",
       "\n",
       "    .dataframe tbody tr th {\n",
       "        vertical-align: top;\n",
       "    }\n",
       "\n",
       "    .dataframe thead th {\n",
       "        text-align: right;\n",
       "    }\n",
       "</style>\n",
       "<table border=\"1\" class=\"dataframe\">\n",
       "  <thead>\n",
       "    <tr style=\"text-align: right;\">\n",
       "      <th></th>\n",
       "      <th>mid</th>\n",
       "      <th>radiant_won</th>\n",
       "    </tr>\n",
       "  </thead>\n",
       "  <tbody>\n",
       "    <tr>\n",
       "      <th>0</th>\n",
       "      <td>44380</td>\n",
       "      <td>1</td>\n",
       "    </tr>\n",
       "    <tr>\n",
       "      <th>1</th>\n",
       "      <td>19687</td>\n",
       "      <td>1</td>\n",
       "    </tr>\n",
       "    <tr>\n",
       "      <th>2</th>\n",
       "      <td>10801</td>\n",
       "      <td>0</td>\n",
       "    </tr>\n",
       "    <tr>\n",
       "      <th>3</th>\n",
       "      <td>32220</td>\n",
       "      <td>1</td>\n",
       "    </tr>\n",
       "    <tr>\n",
       "      <th>4</th>\n",
       "      <td>23207</td>\n",
       "      <td>1</td>\n",
       "    </tr>\n",
       "  </tbody>\n",
       "</table>\n",
       "</div>"
      ],
      "text/plain": [
       "     mid  radiant_won\n",
       "0  44380            1\n",
       "1  19687            1\n",
       "2  10801            0\n",
       "3  32220            1\n",
       "4  23207            1"
      ]
     },
     "execution_count": 5,
     "metadata": {},
     "output_type": "execute_result"
    }
   ],
   "source": [
    "tr = pd.read_csv('../data/train.csv')\n",
    "tr.head(5)"
   ]
  },
  {
   "cell_type": "code",
   "execution_count": 6,
   "metadata": {},
   "outputs": [
    {
     "data": {
      "text/html": [
       "<div>\n",
       "<style scoped>\n",
       "    .dataframe tbody tr th:only-of-type {\n",
       "        vertical-align: middle;\n",
       "    }\n",
       "\n",
       "    .dataframe tbody tr th {\n",
       "        vertical-align: top;\n",
       "    }\n",
       "\n",
       "    .dataframe thead th {\n",
       "        text-align: right;\n",
       "    }\n",
       "</style>\n",
       "<table border=\"1\" class=\"dataframe\">\n",
       "  <thead>\n",
       "    <tr style=\"text-align: right;\">\n",
       "      <th></th>\n",
       "      <th>mid</th>\n",
       "    </tr>\n",
       "  </thead>\n",
       "  <tbody>\n",
       "    <tr>\n",
       "      <th>0</th>\n",
       "      <td>36193</td>\n",
       "    </tr>\n",
       "    <tr>\n",
       "      <th>1</th>\n",
       "      <td>7390</td>\n",
       "    </tr>\n",
       "    <tr>\n",
       "      <th>2</th>\n",
       "      <td>1018</td>\n",
       "    </tr>\n",
       "    <tr>\n",
       "      <th>3</th>\n",
       "      <td>2960</td>\n",
       "    </tr>\n",
       "    <tr>\n",
       "      <th>4</th>\n",
       "      <td>27102</td>\n",
       "    </tr>\n",
       "  </tbody>\n",
       "</table>\n",
       "</div>"
      ],
      "text/plain": [
       "     mid\n",
       "0  36193\n",
       "1   7390\n",
       "2   1018\n",
       "3   2960\n",
       "4  27102"
      ]
     },
     "execution_count": 6,
     "metadata": {},
     "output_type": "execute_result"
    }
   ],
   "source": [
    "ts = pd.read_csv('../data/test.csv')\n",
    "ts.head(5)"
   ]
  },
  {
   "cell_type": "code",
   "execution_count": 7,
   "metadata": {},
   "outputs": [
    {
     "data": {
      "text/html": [
       "<div>\n",
       "<style scoped>\n",
       "    .dataframe tbody tr th:only-of-type {\n",
       "        vertical-align: middle;\n",
       "    }\n",
       "\n",
       "    .dataframe tbody tr th {\n",
       "        vertical-align: top;\n",
       "    }\n",
       "\n",
       "    .dataframe thead th {\n",
       "        text-align: right;\n",
       "    }\n",
       "</style>\n",
       "<table border=\"1\" class=\"dataframe\">\n",
       "  <thead>\n",
       "    <tr style=\"text-align: right;\">\n",
       "      <th></th>\n",
       "      <th>mid</th>\n",
       "      <th>player_0</th>\n",
       "      <th>player_1</th>\n",
       "      <th>player_2</th>\n",
       "      <th>player_3</th>\n",
       "      <th>player_4</th>\n",
       "      <th>player_5</th>\n",
       "      <th>player_6</th>\n",
       "      <th>player_7</th>\n",
       "      <th>player_8</th>\n",
       "      <th>player_9</th>\n",
       "    </tr>\n",
       "  </thead>\n",
       "  <tbody>\n",
       "    <tr>\n",
       "      <th>0</th>\n",
       "      <td>0</td>\n",
       "      <td>91</td>\n",
       "      <td>42</td>\n",
       "      <td>87</td>\n",
       "      <td>15</td>\n",
       "      <td>65</td>\n",
       "      <td>11</td>\n",
       "      <td>6</td>\n",
       "      <td>34</td>\n",
       "      <td>69</td>\n",
       "      <td>74</td>\n",
       "    </tr>\n",
       "    <tr>\n",
       "      <th>1</th>\n",
       "      <td>1</td>\n",
       "      <td>69</td>\n",
       "      <td>85</td>\n",
       "      <td>71</td>\n",
       "      <td>24</td>\n",
       "      <td>64</td>\n",
       "      <td>74</td>\n",
       "      <td>68</td>\n",
       "      <td>39</td>\n",
       "      <td>65</td>\n",
       "      <td>11</td>\n",
       "    </tr>\n",
       "    <tr>\n",
       "      <th>2</th>\n",
       "      <td>2</td>\n",
       "      <td>17</td>\n",
       "      <td>40</td>\n",
       "      <td>31</td>\n",
       "      <td>67</td>\n",
       "      <td>99</td>\n",
       "      <td>32</td>\n",
       "      <td>7</td>\n",
       "      <td>72</td>\n",
       "      <td>48</td>\n",
       "      <td>104</td>\n",
       "    </tr>\n",
       "    <tr>\n",
       "      <th>3</th>\n",
       "      <td>4</td>\n",
       "      <td>25</td>\n",
       "      <td>15</td>\n",
       "      <td>75</td>\n",
       "      <td>29</td>\n",
       "      <td>95</td>\n",
       "      <td>3</td>\n",
       "      <td>32</td>\n",
       "      <td>55</td>\n",
       "      <td>64</td>\n",
       "      <td>86</td>\n",
       "    </tr>\n",
       "    <tr>\n",
       "      <th>4</th>\n",
       "      <td>5</td>\n",
       "      <td>65</td>\n",
       "      <td>6</td>\n",
       "      <td>81</td>\n",
       "      <td>25</td>\n",
       "      <td>71</td>\n",
       "      <td>75</td>\n",
       "      <td>42</td>\n",
       "      <td>101</td>\n",
       "      <td>96</td>\n",
       "      <td>109</td>\n",
       "    </tr>\n",
       "  </tbody>\n",
       "</table>\n",
       "</div>"
      ],
      "text/plain": [
       "   mid  player_0  player_1  player_2  player_3  player_4  player_5  player_6  \\\n",
       "0    0        91        42        87        15        65        11         6   \n",
       "1    1        69        85        71        24        64        74        68   \n",
       "2    2        17        40        31        67        99        32         7   \n",
       "3    4        25        15        75        29        95         3        32   \n",
       "4    5        65         6        81        25        71        75        42   \n",
       "\n",
       "   player_7  player_8  player_9  \n",
       "0        34        69        74  \n",
       "1        39        65        11  \n",
       "2        72        48       104  \n",
       "3        55        64        86  \n",
       "4       101        96       109  "
      ]
     },
     "execution_count": 7,
     "metadata": {},
     "output_type": "execute_result"
    }
   ],
   "source": [
    "hr = pd.read_csv('../data/heroes.csv')\n",
    "hr.head(5)"
   ]
  },
  {
   "cell_type": "code",
   "execution_count": 8,
   "metadata": {},
   "outputs": [],
   "source": [
    "hrtr = pd.merge(tr, hr, on = 'mid')\n",
    "hrts = pd.merge(ts, hr, on = 'mid')"
   ]
  },
  {
   "cell_type": "code",
   "execution_count": 9,
   "metadata": {},
   "outputs": [
    {
     "data": {
      "text/html": [
       "<div>\n",
       "<style scoped>\n",
       "    .dataframe tbody tr th:only-of-type {\n",
       "        vertical-align: middle;\n",
       "    }\n",
       "\n",
       "    .dataframe tbody tr th {\n",
       "        vertical-align: top;\n",
       "    }\n",
       "\n",
       "    .dataframe thead th {\n",
       "        text-align: right;\n",
       "    }\n",
       "</style>\n",
       "<table border=\"1\" class=\"dataframe\">\n",
       "  <thead>\n",
       "    <tr style=\"text-align: right;\">\n",
       "      <th></th>\n",
       "      <th>mid</th>\n",
       "      <th>radiant_won</th>\n",
       "      <th>player_0</th>\n",
       "      <th>player_1</th>\n",
       "      <th>player_2</th>\n",
       "      <th>player_3</th>\n",
       "      <th>player_4</th>\n",
       "      <th>player_5</th>\n",
       "      <th>player_6</th>\n",
       "      <th>player_7</th>\n",
       "      <th>player_8</th>\n",
       "      <th>player_9</th>\n",
       "    </tr>\n",
       "  </thead>\n",
       "  <tbody>\n",
       "    <tr>\n",
       "      <th>0</th>\n",
       "      <td>44380</td>\n",
       "      <td>1</td>\n",
       "      <td>76</td>\n",
       "      <td>96</td>\n",
       "      <td>92</td>\n",
       "      <td>72</td>\n",
       "      <td>64</td>\n",
       "      <td>15</td>\n",
       "      <td>86</td>\n",
       "      <td>75</td>\n",
       "      <td>29</td>\n",
       "      <td>11</td>\n",
       "    </tr>\n",
       "    <tr>\n",
       "      <th>1</th>\n",
       "      <td>19687</td>\n",
       "      <td>1</td>\n",
       "      <td>1</td>\n",
       "      <td>64</td>\n",
       "      <td>90</td>\n",
       "      <td>29</td>\n",
       "      <td>11</td>\n",
       "      <td>71</td>\n",
       "      <td>101</td>\n",
       "      <td>74</td>\n",
       "      <td>86</td>\n",
       "      <td>66</td>\n",
       "    </tr>\n",
       "    <tr>\n",
       "      <th>2</th>\n",
       "      <td>10801</td>\n",
       "      <td>0</td>\n",
       "      <td>35</td>\n",
       "      <td>75</td>\n",
       "      <td>41</td>\n",
       "      <td>110</td>\n",
       "      <td>19</td>\n",
       "      <td>7</td>\n",
       "      <td>69</td>\n",
       "      <td>86</td>\n",
       "      <td>11</td>\n",
       "      <td>72</td>\n",
       "    </tr>\n",
       "    <tr>\n",
       "      <th>3</th>\n",
       "      <td>32220</td>\n",
       "      <td>1</td>\n",
       "      <td>106</td>\n",
       "      <td>11</td>\n",
       "      <td>76</td>\n",
       "      <td>6</td>\n",
       "      <td>77</td>\n",
       "      <td>104</td>\n",
       "      <td>18</td>\n",
       "      <td>96</td>\n",
       "      <td>64</td>\n",
       "      <td>55</td>\n",
       "    </tr>\n",
       "    <tr>\n",
       "      <th>4</th>\n",
       "      <td>23207</td>\n",
       "      <td>1</td>\n",
       "      <td>8</td>\n",
       "      <td>75</td>\n",
       "      <td>1</td>\n",
       "      <td>88</td>\n",
       "      <td>69</td>\n",
       "      <td>11</td>\n",
       "      <td>39</td>\n",
       "      <td>82</td>\n",
       "      <td>24</td>\n",
       "      <td>55</td>\n",
       "    </tr>\n",
       "  </tbody>\n",
       "</table>\n",
       "</div>"
      ],
      "text/plain": [
       "     mid  radiant_won  player_0  player_1  player_2  player_3  player_4  \\\n",
       "0  44380            1        76        96        92        72        64   \n",
       "1  19687            1         1        64        90        29        11   \n",
       "2  10801            0        35        75        41       110        19   \n",
       "3  32220            1       106        11        76         6        77   \n",
       "4  23207            1         8        75         1        88        69   \n",
       "\n",
       "   player_5  player_6  player_7  player_8  player_9  \n",
       "0        15        86        75        29        11  \n",
       "1        71       101        74        86        66  \n",
       "2         7        69        86        11        72  \n",
       "3       104        18        96        64        55  \n",
       "4        11        39        82        24        55  "
      ]
     },
     "execution_count": 9,
     "metadata": {},
     "output_type": "execute_result"
    }
   ],
   "source": [
    "hrtr.head(5)"
   ]
  },
  {
   "cell_type": "code",
   "execution_count": 10,
   "metadata": {},
   "outputs": [
    {
     "data": {
      "text/html": [
       "<div>\n",
       "<style scoped>\n",
       "    .dataframe tbody tr th:only-of-type {\n",
       "        vertical-align: middle;\n",
       "    }\n",
       "\n",
       "    .dataframe tbody tr th {\n",
       "        vertical-align: top;\n",
       "    }\n",
       "\n",
       "    .dataframe thead th {\n",
       "        text-align: right;\n",
       "    }\n",
       "</style>\n",
       "<table border=\"1\" class=\"dataframe\">\n",
       "  <thead>\n",
       "    <tr style=\"text-align: right;\">\n",
       "      <th></th>\n",
       "      <th>mid</th>\n",
       "      <th>player_0</th>\n",
       "      <th>player_1</th>\n",
       "      <th>player_2</th>\n",
       "      <th>player_3</th>\n",
       "      <th>player_4</th>\n",
       "      <th>player_5</th>\n",
       "      <th>player_6</th>\n",
       "      <th>player_7</th>\n",
       "      <th>player_8</th>\n",
       "      <th>player_9</th>\n",
       "    </tr>\n",
       "  </thead>\n",
       "  <tbody>\n",
       "    <tr>\n",
       "      <th>0</th>\n",
       "      <td>36193</td>\n",
       "      <td>64</td>\n",
       "      <td>50</td>\n",
       "      <td>3</td>\n",
       "      <td>75</td>\n",
       "      <td>71</td>\n",
       "      <td>81</td>\n",
       "      <td>90</td>\n",
       "      <td>92</td>\n",
       "      <td>44</td>\n",
       "      <td>94</td>\n",
       "    </tr>\n",
       "    <tr>\n",
       "      <th>1</th>\n",
       "      <td>7390</td>\n",
       "      <td>3</td>\n",
       "      <td>1</td>\n",
       "      <td>89</td>\n",
       "      <td>15</td>\n",
       "      <td>64</td>\n",
       "      <td>26</td>\n",
       "      <td>14</td>\n",
       "      <td>33</td>\n",
       "      <td>87</td>\n",
       "      <td>86</td>\n",
       "    </tr>\n",
       "    <tr>\n",
       "      <th>2</th>\n",
       "      <td>1018</td>\n",
       "      <td>61</td>\n",
       "      <td>96</td>\n",
       "      <td>13</td>\n",
       "      <td>82</td>\n",
       "      <td>32</td>\n",
       "      <td>102</td>\n",
       "      <td>28</td>\n",
       "      <td>90</td>\n",
       "      <td>107</td>\n",
       "      <td>46</td>\n",
       "    </tr>\n",
       "    <tr>\n",
       "      <th>3</th>\n",
       "      <td>2960</td>\n",
       "      <td>27</td>\n",
       "      <td>3</td>\n",
       "      <td>101</td>\n",
       "      <td>15</td>\n",
       "      <td>44</td>\n",
       "      <td>20</td>\n",
       "      <td>21</td>\n",
       "      <td>90</td>\n",
       "      <td>5</td>\n",
       "      <td>29</td>\n",
       "    </tr>\n",
       "    <tr>\n",
       "      <th>4</th>\n",
       "      <td>27102</td>\n",
       "      <td>15</td>\n",
       "      <td>101</td>\n",
       "      <td>69</td>\n",
       "      <td>3</td>\n",
       "      <td>104</td>\n",
       "      <td>49</td>\n",
       "      <td>66</td>\n",
       "      <td>67</td>\n",
       "      <td>81</td>\n",
       "      <td>16</td>\n",
       "    </tr>\n",
       "  </tbody>\n",
       "</table>\n",
       "</div>"
      ],
      "text/plain": [
       "     mid  player_0  player_1  player_2  player_3  player_4  player_5  \\\n",
       "0  36193        64        50         3        75        71        81   \n",
       "1   7390         3         1        89        15        64        26   \n",
       "2   1018        61        96        13        82        32       102   \n",
       "3   2960        27         3       101        15        44        20   \n",
       "4  27102        15       101        69         3       104        49   \n",
       "\n",
       "   player_6  player_7  player_8  player_9  \n",
       "0        90        92        44        94  \n",
       "1        14        33        87        86  \n",
       "2        28        90       107        46  \n",
       "3        21        90         5        29  \n",
       "4        66        67        81        16  "
      ]
     },
     "execution_count": 10,
     "metadata": {},
     "output_type": "execute_result"
    }
   ],
   "source": [
    "hrts.head(5)"
   ]
  },
  {
   "cell_type": "code",
   "execution_count": 11,
   "metadata": {},
   "outputs": [],
   "source": [
    "radt = ['player_{i}'.format(i = i) for i in range(0, 5)]\n",
    "dire = ['player_{i}'.format(i = i) for i in range(5, 10)]"
   ]
  },
  {
   "cell_type": "code",
   "execution_count": 12,
   "metadata": {},
   "outputs": [],
   "source": [
    "cmnd = [*radt, *dire]"
   ]
  },
  {
   "cell_type": "code",
   "execution_count": 13,
   "metadata": {},
   "outputs": [
    {
     "data": {
      "text/plain": [
       "111"
      ]
     },
     "execution_count": 13,
     "metadata": {},
     "output_type": "execute_result"
    }
   ],
   "source": [
    "nheroes = len(np.unique(hrtr[cmnd].to_numpy()))\n",
    "nheroes"
   ]
  },
  {
   "cell_type": "code",
   "execution_count": 14,
   "metadata": {},
   "outputs": [],
   "source": [
    "def to_csr(data, nheroes = None):\n",
    "    nhrs = len(np.unique(hrtr[cmnd].to_numpy())) if nheroes is None else nheroes\n",
    "    nrows, ncols = data[cmnd].shape\n",
    "    dradt, ddire = data[radt].to_numpy(), data[dire].to_numpy()\n",
    "    mod_data = np.hstack((dradt, ddire + nhrs))\n",
    "    frows = np.repeat(data.index.to_numpy(), ncols)\n",
    "    fcols = mod_data.reshape(ncols * nrows)\n",
    "    return csr_matrix((np.ones(ncols * nrows, dtype = np.float32), (frows, fcols)))"
   ]
  },
  {
   "cell_type": "code",
   "execution_count": 15,
   "metadata": {},
   "outputs": [],
   "source": [
    "csr_hrtr, csr_hrts = to_csr(hrtr), to_csr(hrts)"
   ]
  },
  {
   "cell_type": "code",
   "execution_count": 16,
   "metadata": {},
   "outputs": [],
   "source": [
    "hrtr_res = hrtr['radiant_won']"
   ]
  },
  {
   "cell_type": "code",
   "execution_count": 22,
   "metadata": {},
   "outputs": [],
   "source": [
    "res = []\n",
    "ks = [*range(2, 50, 1)]\n",
    "for k in ks:\n",
    "    def weights(distances):\n",
    "        res = np.ones(distances.shape)\n",
    "        #not to take into account the point itself\n",
    "        res[:, 0] = 0.\n",
    "        return res\n",
    "    model = KNeighborsClassifier(algorithm = 'brute', n_jobs = 15, n_neighbors = k, weights = weights)\n",
    "    model.fit(csr_hrtr, hrtr_res)\n",
    "    pr = model.predict(csr_hrtr)\n",
    "    res.append(roc_auc_score(hrtr_res, pr))"
   ]
  },
  {
   "cell_type": "code",
   "execution_count": 23,
   "metadata": {},
   "outputs": [
    {
     "data": {
      "text/plain": [
       "[<matplotlib.lines.Line2D at 0x7fd49c7e6fa0>]"
      ]
     },
     "execution_count": 23,
     "metadata": {},
     "output_type": "execute_result"
    },
    {
     "data": {
      "image/png": "[encoded data removed]",
      "text/plain": [
       "<Figure size 900x600 with 1 Axes>"
      ]
     },
     "metadata": {
      "needs_background": "light"
     },
     "output_type": "display_data"
    }
   ],
   "source": [
    "plt.figure(figsize = (7.5, 5.), dpi = 120)\n",
    "plt.plot(ks, res)"
   ]
  },
  {
   "cell_type": "code",
   "execution_count": 24,
   "metadata": {},
   "outputs": [
    {
     "data": {
      "text/plain": [
       "0.5549048858769744"
      ]
     },
     "execution_count": 24,
     "metadata": {},
     "output_type": "execute_result"
    }
   ],
   "source": [
    "max(res)"
   ]
  },
  {
   "cell_type": "code",
   "execution_count": 25,
   "metadata": {},
   "outputs": [
    {
     "data": {
      "text/plain": [
       "29"
      ]
     },
     "execution_count": 25,
     "metadata": {},
     "output_type": "execute_result"
    }
   ],
   "source": [
    "np.argmax(res)"
   ]
  },
  {
   "cell_type": "code",
   "execution_count": 26,
   "metadata": {},
   "outputs": [
    {
     "data": {
      "text/plain": [
       "17"
      ]
     },
     "execution_count": 26,
     "metadata": {},
     "output_type": "execute_result"
    }
   ],
   "source": [
    "ks[np.argmax(res)]"
   ]
  },
  {
   "cell_type": "code",
   "execution_count": null,
   "metadata": {},
   "outputs": [],
   "source": []
  }
 ],
 "metadata": {
  "kernelspec": {
   "display_name": "Python 3",
   "language": "python",
   "name": "python3"
  },
  "language_info": {
   "codemirror_mode": {
    "name": "ipython",
    "version": 3
   },
   "file_extension": ".py",
   "mimetype": "text/x-python",
   "name": "python",
   "nbconvert_exporter": "python",
   "pygments_lexer": "ipython3",
   "version": "3.8.5"
  }
 },
 "nbformat": 4,
 "nbformat_minor": 4
}
