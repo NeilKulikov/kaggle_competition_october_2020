{
 "cells": [
  {
   "cell_type": "code",
   "execution_count": 1,
   "metadata": {},
   "outputs": [],
   "source": [
    "import numpy as np\n",
    "import matplotlib.pyplot as plt"
   ]
  },
  {
   "cell_type": "code",
   "execution_count": 2,
   "metadata": {},
   "outputs": [],
   "source": [
    "import pandas as pd\n",
    "import seaborn as sb"
   ]
  },
  {
   "cell_type": "code",
   "execution_count": 3,
   "metadata": {},
   "outputs": [],
   "source": [
    "import sklearn as sk\n",
    "from sklearn.neighbors import KNeighborsClassifier\n",
    "from sklearn.metrics import roc_auc_score"
   ]
  },
  {
   "cell_type": "code",
   "execution_count": 4,
   "metadata": {},
   "outputs": [],
   "source": [
    "from scipy.sparse import dok_matrix, csr_matrix"
   ]
  },
  {
   "cell_type": "code",
   "execution_count": 5,
   "metadata": {},
   "outputs": [
    {
     "data": {
      "text/html": [
       "<div>\n",
       "<style scoped>\n",
       "    .dataframe tbody tr th:only-of-type {\n",
       "        vertical-align: middle;\n",
       "    }\n",
       "\n",
       "    .dataframe tbody tr th {\n",
       "        vertical-align: top;\n",
       "    }\n",
       "\n",
       "    .dataframe thead th {\n",
       "        text-align: right;\n",
       "    }\n",
       "</style>\n",
       "<table border=\"1\" class=\"dataframe\">\n",
       "  <thead>\n",
       "    <tr style=\"text-align: right;\">\n",
       "      <th></th>\n",
       "      <th>mid</th>\n",
       "      <th>radiant_won</th>\n",
       "    </tr>\n",
       "  </thead>\n",
       "  <tbody>\n",
       "    <tr>\n",
       "      <th>0</th>\n",
       "      <td>44380</td>\n",
       "      <td>1</td>\n",
       "    </tr>\n",
       "    <tr>\n",
       "      <th>1</th>\n",
       "      <td>19687</td>\n",
       "      <td>1</td>\n",
       "    </tr>\n",
       "    <tr>\n",
       "      <th>2</th>\n",
       "      <td>10801</td>\n",
       "      <td>0</td>\n",
       "    </tr>\n",
       "    <tr>\n",
       "      <th>3</th>\n",
       "      <td>32220</td>\n",
       "      <td>1</td>\n",
       "    </tr>\n",
       "    <tr>\n",
       "      <th>4</th>\n",
       "      <td>23207</td>\n",
       "      <td>1</td>\n",
       "    </tr>\n",
       "  </tbody>\n",
       "</table>\n",
       "</div>"
      ],
      "text/plain": [
       "     mid  radiant_won\n",
       "0  44380            1\n",
       "1  19687            1\n",
       "2  10801            0\n",
       "3  32220            1\n",
       "4  23207            1"
      ]
     },
     "execution_count": 5,
     "metadata": {},
     "output_type": "execute_result"
    }
   ],
   "source": [
    "tr = pd.read_csv('../data/train.csv')\n",
    "tr.head(5)"
   ]
  },
  {
   "cell_type": "code",
   "execution_count": 6,
   "metadata": {},
   "outputs": [
    {
     "data": {
      "text/html": [
       "<div>\n",
       "<style scoped>\n",
       "    .dataframe tbody tr th:only-of-type {\n",
       "        vertical-align: middle;\n",
       "    }\n",
       "\n",
       "    .dataframe tbody tr th {\n",
       "        vertical-align: top;\n",
       "    }\n",
       "\n",
       "    .dataframe thead th {\n",
       "        text-align: right;\n",
       "    }\n",
       "</style>\n",
       "<table border=\"1\" class=\"dataframe\">\n",
       "  <thead>\n",
       "    <tr style=\"text-align: right;\">\n",
       "      <th></th>\n",
       "      <th>mid</th>\n",
       "    </tr>\n",
       "  </thead>\n",
       "  <tbody>\n",
       "    <tr>\n",
       "      <th>0</th>\n",
       "      <td>36193</td>\n",
       "    </tr>\n",
       "    <tr>\n",
       "      <th>1</th>\n",
       "      <td>7390</td>\n",
       "    </tr>\n",
       "    <tr>\n",
       "      <th>2</th>\n",
       "      <td>1018</td>\n",
       "    </tr>\n",
       "    <tr>\n",
       "      <th>3</th>\n",
       "      <td>2960</td>\n",
       "    </tr>\n",
       "    <tr>\n",
       "      <th>4</th>\n",
       "      <td>27102</td>\n",
       "    </tr>\n",
       "  </tbody>\n",
       "</table>\n",
       "</div>"
      ],
      "text/plain": [
       "     mid\n",
       "0  36193\n",
       "1   7390\n",
       "2   1018\n",
       "3   2960\n",
       "4  27102"
      ]
     },
     "execution_count": 6,
     "metadata": {},
     "output_type": "execute_result"
    }
   ],
   "source": [
    "ts = pd.read_csv('../data/test.csv')\n",
    "ts.head(5)"
   ]
  },
  {
   "cell_type": "code",
   "execution_count": 7,
   "metadata": {},
   "outputs": [
    {
     "data": {
      "text/html": [
       "<div>\n",
       "<style scoped>\n",
       "    .dataframe tbody tr th:only-of-type {\n",
       "        vertical-align: middle;\n",
       "    }\n",
       "\n",
       "    .dataframe tbody tr th {\n",
       "        vertical-align: top;\n",
       "    }\n",
       "\n",
       "    .dataframe thead th {\n",
       "        text-align: right;\n",
       "    }\n",
       "</style>\n",
       "<table border=\"1\" class=\"dataframe\">\n",
       "  <thead>\n",
       "    <tr style=\"text-align: right;\">\n",
       "      <th></th>\n",
       "      <th>mid</th>\n",
       "      <th>player_0</th>\n",
       "      <th>player_1</th>\n",
       "      <th>player_2</th>\n",
       "      <th>player_3</th>\n",
       "      <th>player_4</th>\n",
       "      <th>player_5</th>\n",
       "      <th>player_6</th>\n",
       "      <th>player_7</th>\n",
       "      <th>player_8</th>\n",
       "      <th>player_9</th>\n",
       "    </tr>\n",
       "  </thead>\n",
       "  <tbody>\n",
       "    <tr>\n",
       "      <th>0</th>\n",
       "      <td>0</td>\n",
       "      <td>91</td>\n",
       "      <td>42</td>\n",
       "      <td>87</td>\n",
       "      <td>15</td>\n",
       "      <td>65</td>\n",
       "      <td>11</td>\n",
       "      <td>6</td>\n",
       "      <td>34</td>\n",
       "      <td>69</td>\n",
       "      <td>74</td>\n",
       "    </tr>\n",
       "    <tr>\n",
       "      <th>1</th>\n",
       "      <td>1</td>\n",
       "      <td>69</td>\n",
       "      <td>85</td>\n",
       "      <td>71</td>\n",
       "      <td>24</td>\n",
       "      <td>64</td>\n",
       "      <td>74</td>\n",
       "      <td>68</td>\n",
       "      <td>39</td>\n",
       "      <td>65</td>\n",
       "      <td>11</td>\n",
       "    </tr>\n",
       "    <tr>\n",
       "      <th>2</th>\n",
       "      <td>2</td>\n",
       "      <td>17</td>\n",
       "      <td>40</td>\n",
       "      <td>31</td>\n",
       "      <td>67</td>\n",
       "      <td>99</td>\n",
       "      <td>32</td>\n",
       "      <td>7</td>\n",
       "      <td>72</td>\n",
       "      <td>48</td>\n",
       "      <td>104</td>\n",
       "    </tr>\n",
       "    <tr>\n",
       "      <th>3</th>\n",
       "      <td>4</td>\n",
       "      <td>25</td>\n",
       "      <td>15</td>\n",
       "      <td>75</td>\n",
       "      <td>29</td>\n",
       "      <td>95</td>\n",
       "      <td>3</td>\n",
       "      <td>32</td>\n",
       "      <td>55</td>\n",
       "      <td>64</td>\n",
       "      <td>86</td>\n",
       "    </tr>\n",
       "    <tr>\n",
       "      <th>4</th>\n",
       "      <td>5</td>\n",
       "      <td>65</td>\n",
       "      <td>6</td>\n",
       "      <td>81</td>\n",
       "      <td>25</td>\n",
       "      <td>71</td>\n",
       "      <td>75</td>\n",
       "      <td>42</td>\n",
       "      <td>101</td>\n",
       "      <td>96</td>\n",
       "      <td>109</td>\n",
       "    </tr>\n",
       "  </tbody>\n",
       "</table>\n",
       "</div>"
      ],
      "text/plain": [
       "   mid  player_0  player_1  player_2  player_3  player_4  player_5  player_6  \\\n",
       "0    0        91        42        87        15        65        11         6   \n",
       "1    1        69        85        71        24        64        74        68   \n",
       "2    2        17        40        31        67        99        32         7   \n",
       "3    4        25        15        75        29        95         3        32   \n",
       "4    5        65         6        81        25        71        75        42   \n",
       "\n",
       "   player_7  player_8  player_9  \n",
       "0        34        69        74  \n",
       "1        39        65        11  \n",
       "2        72        48       104  \n",
       "3        55        64        86  \n",
       "4       101        96       109  "
      ]
     },
     "execution_count": 7,
     "metadata": {},
     "output_type": "execute_result"
    }
   ],
   "source": [
    "hr = pd.read_csv('../data/heroes.csv')\n",
    "hr.head(5)"
   ]
  },
  {
   "cell_type": "code",
   "execution_count": 8,
   "metadata": {},
   "outputs": [],
   "source": [
    "hrtr = pd.merge(tr, hr, on = 'mid')\n",
    "hrts = pd.merge(ts, hr, on = 'mid')"
   ]
  },
  {
   "cell_type": "code",
   "execution_count": 9,
   "metadata": {},
   "outputs": [
    {
     "data": {
      "text/html": [
       "<div>\n",
       "<style scoped>\n",
       "    .dataframe tbody tr th:only-of-type {\n",
       "        vertical-align: middle;\n",
       "    }\n",
       "\n",
       "    .dataframe tbody tr th {\n",
       "        vertical-align: top;\n",
       "    }\n",
       "\n",
       "    .dataframe thead th {\n",
       "        text-align: right;\n",
       "    }\n",
       "</style>\n",
       "<table border=\"1\" class=\"dataframe\">\n",
       "  <thead>\n",
       "    <tr style=\"text-align: right;\">\n",
       "      <th></th>\n",
       "      <th>mid</th>\n",
       "      <th>radiant_won</th>\n",
       "      <th>player_0</th>\n",
       "      <th>player_1</th>\n",
       "      <th>player_2</th>\n",
       "      <th>player_3</th>\n",
       "      <th>player_4</th>\n",
       "      <th>player_5</th>\n",
       "      <th>player_6</th>\n",
       "      <th>player_7</th>\n",
       "      <th>player_8</th>\n",
       "      <th>player_9</th>\n",
       "    </tr>\n",
       "  </thead>\n",
       "  <tbody>\n",
       "    <tr>\n",
       "      <th>0</th>\n",
       "      <td>44380</td>\n",
       "      <td>1</td>\n",
       "      <td>76</td>\n",
       "      <td>96</td>\n",
       "      <td>92</td>\n",
       "      <td>72</td>\n",
       "      <td>64</td>\n",
       "      <td>15</td>\n",
       "      <td>86</td>\n",
       "      <td>75</td>\n",
       "      <td>29</td>\n",
       "      <td>11</td>\n",
       "    </tr>\n",
       "    <tr>\n",
       "      <th>1</th>\n",
       "      <td>19687</td>\n",
       "      <td>1</td>\n",
       "      <td>1</td>\n",
       "      <td>64</td>\n",
       "      <td>90</td>\n",
       "      <td>29</td>\n",
       "      <td>11</td>\n",
       "      <td>71</td>\n",
       "      <td>101</td>\n",
       "      <td>74</td>\n",
       "      <td>86</td>\n",
       "      <td>66</td>\n",
       "    </tr>\n",
       "    <tr>\n",
       "      <th>2</th>\n",
       "      <td>10801</td>\n",
       "      <td>0</td>\n",
       "      <td>35</td>\n",
       "      <td>75</td>\n",
       "      <td>41</td>\n",
       "      <td>110</td>\n",
       "      <td>19</td>\n",
       "      <td>7</td>\n",
       "      <td>69</td>\n",
       "      <td>86</td>\n",
       "      <td>11</td>\n",
       "      <td>72</td>\n",
       "    </tr>\n",
       "    <tr>\n",
       "      <th>3</th>\n",
       "      <td>32220</td>\n",
       "      <td>1</td>\n",
       "      <td>106</td>\n",
       "      <td>11</td>\n",
       "      <td>76</td>\n",
       "      <td>6</td>\n",
       "      <td>77</td>\n",
       "      <td>104</td>\n",
       "      <td>18</td>\n",
       "      <td>96</td>\n",
       "      <td>64</td>\n",
       "      <td>55</td>\n",
       "    </tr>\n",
       "    <tr>\n",
       "      <th>4</th>\n",
       "      <td>23207</td>\n",
       "      <td>1</td>\n",
       "      <td>8</td>\n",
       "      <td>75</td>\n",
       "      <td>1</td>\n",
       "      <td>88</td>\n",
       "      <td>69</td>\n",
       "      <td>11</td>\n",
       "      <td>39</td>\n",
       "      <td>82</td>\n",
       "      <td>24</td>\n",
       "      <td>55</td>\n",
       "    </tr>\n",
       "  </tbody>\n",
       "</table>\n",
       "</div>"
      ],
      "text/plain": [
       "     mid  radiant_won  player_0  player_1  player_2  player_3  player_4  \\\n",
       "0  44380            1        76        96        92        72        64   \n",
       "1  19687            1         1        64        90        29        11   \n",
       "2  10801            0        35        75        41       110        19   \n",
       "3  32220            1       106        11        76         6        77   \n",
       "4  23207            1         8        75         1        88        69   \n",
       "\n",
       "   player_5  player_6  player_7  player_8  player_9  \n",
       "0        15        86        75        29        11  \n",
       "1        71       101        74        86        66  \n",
       "2         7        69        86        11        72  \n",
       "3       104        18        96        64        55  \n",
       "4        11        39        82        24        55  "
      ]
     },
     "execution_count": 9,
     "metadata": {},
     "output_type": "execute_result"
    }
   ],
   "source": [
    "hrtr.head(5)"
   ]
  },
  {
   "cell_type": "code",
   "execution_count": 10,
   "metadata": {},
   "outputs": [
    {
     "data": {
      "text/html": [
       "<div>\n",
       "<style scoped>\n",
       "    .dataframe tbody tr th:only-of-type {\n",
       "        vertical-align: middle;\n",
       "    }\n",
       "\n",
       "    .dataframe tbody tr th {\n",
       "        vertical-align: top;\n",
       "    }\n",
       "\n",
       "    .dataframe thead th {\n",
       "        text-align: right;\n",
       "    }\n",
       "</style>\n",
       "<table border=\"1\" class=\"dataframe\">\n",
       "  <thead>\n",
       "    <tr style=\"text-align: right;\">\n",
       "      <th></th>\n",
       "      <th>mid</th>\n",
       "      <th>player_0</th>\n",
       "      <th>player_1</th>\n",
       "      <th>player_2</th>\n",
       "      <th>player_3</th>\n",
       "      <th>player_4</th>\n",
       "      <th>player_5</th>\n",
       "      <th>player_6</th>\n",
       "      <th>player_7</th>\n",
       "      <th>player_8</th>\n",
       "      <th>player_9</th>\n",
       "    </tr>\n",
       "  </thead>\n",
       "  <tbody>\n",
       "    <tr>\n",
       "      <th>0</th>\n",
       "      <td>36193</td>\n",
       "      <td>64</td>\n",
       "      <td>50</td>\n",
       "      <td>3</td>\n",
       "      <td>75</td>\n",
       "      <td>71</td>\n",
       "      <td>81</td>\n",
       "      <td>90</td>\n",
       "      <td>92</td>\n",
       "      <td>44</td>\n",
       "      <td>94</td>\n",
       "    </tr>\n",
       "    <tr>\n",
       "      <th>1</th>\n",
       "      <td>7390</td>\n",
       "      <td>3</td>\n",
       "      <td>1</td>\n",
       "      <td>89</td>\n",
       "      <td>15</td>\n",
       "      <td>64</td>\n",
       "      <td>26</td>\n",
       "      <td>14</td>\n",
       "      <td>33</td>\n",
       "      <td>87</td>\n",
       "      <td>86</td>\n",
       "    </tr>\n",
       "    <tr>\n",
       "      <th>2</th>\n",
       "      <td>1018</td>\n",
       "      <td>61</td>\n",
       "      <td>96</td>\n",
       "      <td>13</td>\n",
       "      <td>82</td>\n",
       "      <td>32</td>\n",
       "      <td>102</td>\n",
       "      <td>28</td>\n",
       "      <td>90</td>\n",
       "      <td>107</td>\n",
       "      <td>46</td>\n",
       "    </tr>\n",
       "    <tr>\n",
       "      <th>3</th>\n",
       "      <td>2960</td>\n",
       "      <td>27</td>\n",
       "      <td>3</td>\n",
       "      <td>101</td>\n",
       "      <td>15</td>\n",
       "      <td>44</td>\n",
       "      <td>20</td>\n",
       "      <td>21</td>\n",
       "      <td>90</td>\n",
       "      <td>5</td>\n",
       "      <td>29</td>\n",
       "    </tr>\n",
       "    <tr>\n",
       "      <th>4</th>\n",
       "      <td>27102</td>\n",
       "      <td>15</td>\n",
       "      <td>101</td>\n",
       "      <td>69</td>\n",
       "      <td>3</td>\n",
       "      <td>104</td>\n",
       "      <td>49</td>\n",
       "      <td>66</td>\n",
       "      <td>67</td>\n",
       "      <td>81</td>\n",
       "      <td>16</td>\n",
       "    </tr>\n",
       "  </tbody>\n",
       "</table>\n",
       "</div>"
      ],
      "text/plain": [
       "     mid  player_0  player_1  player_2  player_3  player_4  player_5  \\\n",
       "0  36193        64        50         3        75        71        81   \n",
       "1   7390         3         1        89        15        64        26   \n",
       "2   1018        61        96        13        82        32       102   \n",
       "3   2960        27         3       101        15        44        20   \n",
       "4  27102        15       101        69         3       104        49   \n",
       "\n",
       "   player_6  player_7  player_8  player_9  \n",
       "0        90        92        44        94  \n",
       "1        14        33        87        86  \n",
       "2        28        90       107        46  \n",
       "3        21        90         5        29  \n",
       "4        66        67        81        16  "
      ]
     },
     "execution_count": 10,
     "metadata": {},
     "output_type": "execute_result"
    }
   ],
   "source": [
    "hrts.head(5)"
   ]
  },
  {
   "cell_type": "code",
   "execution_count": 11,
   "metadata": {},
   "outputs": [],
   "source": [
    "radt = ['player_{i}'.format(i = i) for i in range(0, 5)]\n",
    "dire = ['player_{i}'.format(i = i) for i in range(5, 10)]"
   ]
  },
  {
   "cell_type": "code",
   "execution_count": 12,
   "metadata": {},
   "outputs": [],
   "source": [
    "cmnd = [*radt, *dire]"
   ]
  },
  {
   "cell_type": "code",
   "execution_count": 13,
   "metadata": {},
   "outputs": [
    {
     "data": {
      "text/plain": [
       "111"
      ]
     },
     "execution_count": 13,
     "metadata": {},
     "output_type": "execute_result"
    }
   ],
   "source": [
    "nheroes = len(np.unique(hrtr[cmnd].to_numpy()))\n",
    "nheroes"
   ]
  },
  {
   "cell_type": "code",
   "execution_count": 14,
   "metadata": {},
   "outputs": [],
   "source": [
    "def to_csr(data, nheroes = None):\n",
    "    nhrs = len(np.unique(hrtr[cmnd].to_numpy())) if nheroes is None else nheroes\n",
    "    nrows, ncols = data[cmnd].shape\n",
    "    dradt, ddire = data[radt].to_numpy(), data[dire].to_numpy()\n",
    "    mod_data = np.hstack((dradt, ddire + nhrs))\n",
    "    frows = np.repeat(data.index.to_numpy(), ncols)\n",
    "    fcols = mod_data.reshape(ncols * nrows)\n",
    "    return csr_matrix((np.ones(ncols * nrows, dtype = np.float32), (frows, fcols)))"
   ]
  },
  {
   "cell_type": "code",
   "execution_count": 15,
   "metadata": {},
   "outputs": [],
   "source": [
    "csr_hrtr, csr_hrts = to_csr(hrtr), to_csr(hrts)"
   ]
  },
  {
   "cell_type": "code",
   "execution_count": 16,
   "metadata": {},
   "outputs": [],
   "source": [
    "hrtr_res = hrtr['radiant_won']"
   ]
  },
  {
   "cell_type": "code",
   "execution_count": 22,
   "metadata": {},
   "outputs": [],
   "source": [
    "res = []\n",
    "ks = [*range(2, 50, 1)]\n",
    "for k in ks:\n",
    "    def weights(distances):\n",
    "        res = np.ones(distances.shape)\n",
    "        #not to take into account the point itself\n",
    "        res[:, 0] = 0.\n",
    "        return res\n",
    "    model = KNeighborsClassifier(algorithm = 'brute', n_jobs = 15, n_neighbors = k, weights = weights)\n",
    "    model.fit(csr_hrtr, hrtr_res)\n",
    "    pr = model.predict(csr_hrtr)\n",
    "    res.append(roc_auc_score(hrtr_res, pr))"
   ]
  },
  {
   "cell_type": "code",
   "execution_count": 23,
   "metadata": {},
   "outputs": [
    {
     "data": {
      "text/plain": [
       "[<matplotlib.lines.Line2D at 0x7fd49c7e6fa0>]"
      ]
     },
     "execution_count": 23,
     "metadata": {},
     "output_type": "execute_result"
    },
    {
     "data": {
      "image/png": "[encoded data removed]",
      "text/plain": [
       "<Figure size 900x600 with 1 Axes>"
      ]
     },
     "metadata": {
      "needs_background": "light"
     },
     "output_type": "display_data"
    }
   ],
   "source": [
    "plt.figure(figsize = (7.5, 5.), dpi = 120)\n",
    "plt.plot(ks, res)"
   ]
  },
  {
   "cell_type": "code",
   "execution_count": 24,
   "metadata": {},
   "outputs": [
    {
     "data": {
      "text/plain": [
       "0.5549048858769744"
      ]
     },
     "execution_count": 24,
     "metadata": {},
     "output_type": "execute_result"
    }
   ],
   "source": [
    "max(res)"
   ]
  },
  {
   "cell_type": "code",
   "execution_count": 25,
   "metadata": {},
   "outputs": [
    {
     "data": {
      "text/plain": [
       "29"
      ]
     },
     "execution_count": 25,
     "metadata": {},
     "output_type": "execute_result"
    }
   ],
   "source": [
    "np.argmax(res)"
   ]
  },
  {
   "cell_type": "code",
   "execution_count": 26,
   "metadata": {},
   "outputs": [
    {
     "data": {
      "text/plain": [
       "17"
      ]
     },
     "execution_count": 26,
     "metadata": {},
     "output_type": "execute_result"
    }
   ],
   "source": [
    "ks[np.argmax(res)]"
   ]
  },
  {
   "cell_type": "code",
   "execution_count": 17,
   "metadata": {},
   "outputs": [],
   "source": [
    "border = 12000\n",
    "train_data, train_labels = csr_hrtr[:border, :], hrtr_res[:border]\n",
    "test_data, test_labels = csr_hrtr[border:, :], hrtr_res[border:]"
   ]
  },
  {
   "cell_type": "code",
   "execution_count": 22,
   "metadata": {},
   "outputs": [
    {
     "name": "stdout",
     "output_type": "stream",
     "text": [
      "2 0.5132601644903303\n",
      "3 0.5150389615534918\n",
      "4 0.5255501169656991\n",
      "5 0.5232751836424505\n",
      "6 0.5314645834346315\n",
      "7 0.5304948216340621\n",
      "8 0.5318526682406162\n",
      "9 0.5324982756788782\n",
      "10 0.5320831780093681\n",
      "11 0.5287398859336816\n",
      "12 0.5218498048770825\n",
      "13 0.5305393928588794\n",
      "14 0.523224759630536\n",
      "15 0.5373876039770138\n",
      "16 0.5339407625911459\n",
      "17 0.5375600360891857\n",
      "18 0.5298208506890981\n",
      "19 0.5375699408058117\n",
      "20 0.5344017821286497\n",
      "21 0.5378270132236971\n",
      "22 0.5357137068672102\n",
      "23 0.5412851099693675\n",
      "24 0.5361913843372214\n",
      "25 0.5381205530073422\n",
      "26 0.5384685687324304\n",
      "27 0.537359240470312\n",
      "28 0.5465971895816788\n",
      "29 0.5450781662227553\n",
      "30 0.5470433520442435\n",
      "31 0.5408952243058145\n",
      "32 0.5435271776419931\n",
      "33 0.5427843238950388\n",
      "34 0.5385415034639495\n",
      "35 0.5385333996048918\n",
      "36 0.5410077779038378\n",
      "37 0.5399763367315515\n",
      "38 0.5422566726275052\n",
      "39 0.5432403910742296\n",
      "40 0.5371399860613624\n",
      "41 0.5455756531260185\n",
      "42 0.5422566726275052\n",
      "43 0.5435024158504279\n",
      "44 0.5442718322465158\n",
      "45 0.5450763653651869\n",
      "46 0.5496190285814104\n",
      "47 0.5539712511097785\n",
      "48 0.5540689476328627\n",
      "49 0.5557658056766632\n",
      "50 0.5535912701628516\n",
      "51 0.5575189405194754\n",
      "52 0.5526624778719627\n",
      "53 0.5595390524967989\n",
      "54 0.5613002911986689\n",
      "55 0.5641100792197243\n",
      "56 0.559091089176666\n",
      "57 0.5594129924670128\n",
      "58 0.5569498695278691\n",
      "59 0.5574293478554487\n",
      "60 0.554903194901412\n",
      "61 0.5568935927288574\n",
      "62 0.5617829210269931\n",
      "63 0.5614695718100959\n",
      "64 0.5629372707283209\n",
      "65 0.5625244241307711\n",
      "66 0.5609851411242034\n",
      "67 0.5599370420194096\n",
      "68 0.5513289428425816\n",
      "69 0.5583680448629638\n",
      "70 0.5568917918712891\n",
      "71 0.5638413012276446\n",
      "72 0.5656556652277814\n",
      "73 0.5699182950921229\n",
      "74 0.5629687857357674\n",
      "75 0.5674520206522347\n",
      "76 0.5640866680713356\n",
      "77 0.5632591740186677\n",
      "78 0.5647948553100987\n",
      "79 0.5669113131673302\n",
      "80 0.563356870541752\n",
      "81 0.5588241120421545\n",
      "82 0.5601292835648336\n",
      "83 0.5645179734589612\n",
      "84 0.5645742502579728\n",
      "85 0.5675879853986469\n",
      "86 0.5639655603998623\n",
      "87 0.5582469371914905\n",
      "88 0.5573793740579264\n",
      "89 0.5618310939669471\n",
      "90 0.5605754460273983\n",
      "91 0.5609968466983978\n",
      "92 0.5654665751831022\n",
      "93 0.5635891811680722\n",
      "94 0.5652144551235299\n",
      "95 0.5659924255930674\n",
      "96 0.564705262646072\n",
      "97 0.563405043481706\n",
      "98 0.560097768557387\n",
      "99 0.5638512059442706\n"
     ]
    }
   ],
   "source": [
    "res = []\n",
    "ks = [*range(2, 100, 1)]\n",
    "for k in ks:\n",
    "    def weights(distances):\n",
    "        res = np.ones(distances.shape)\n",
    "        #not to take into account the point itself\n",
    "        res[:, 0] = 0.\n",
    "        return res\n",
    "    model = KNeighborsClassifier(algorithm = 'brute', n_jobs = 16, n_neighbors = k, weights = weights)\n",
    "    model.fit(train_data, train_labels)\n",
    "    pr = model.predict(test_data)\n",
    "    res.append(roc_auc_score(test_labels, pr))\n",
    "    print(k, res[-1])"
   ]
  },
  {
   "cell_type": "code",
   "execution_count": 23,
   "metadata": {},
   "outputs": [
    {
     "data": {
      "text/plain": [
       "[<matplotlib.lines.Line2D at 0x7f58763cbf70>]"
      ]
     },
     "execution_count": 23,
     "metadata": {},
     "output_type": "execute_result"
    },
    {
     "data": {
      "image/png": "[encoded data removed]",
      "text/plain": [
       "<Figure size 900x600 with 1 Axes>"
      ]
     },
     "metadata": {
      "needs_background": "light"
     },
     "output_type": "display_data"
    }
   ],
   "source": [
    "plt.figure(figsize = (7.5, 5.), dpi = 120)\n",
    "plt.plot(ks, res)"
   ]
  },
  {
   "cell_type": "code",
   "execution_count": 25,
   "metadata": {},
   "outputs": [
    {
     "data": {
      "text/plain": [
       "(71, 73, 0.5699182950921229)"
      ]
     },
     "execution_count": 25,
     "metadata": {},
     "output_type": "execute_result"
    }
   ],
   "source": [
    "np.argmax(res), ks[np.argmax(res)], res[np.argmax(res)]"
   ]
  },
  {
   "cell_type": "code",
   "execution_count": null,
   "metadata": {},
   "outputs": [],
   "source": []
  }
 ],
 "metadata": {
  "kernelspec": {
   "display_name": "Python 3",
   "language": "python",
   "name": "python3"
  },
  "language_info": {
   "codemirror_mode": {
    "name": "ipython",
    "version": 3
   },
   "file_extension": ".py",
   "mimetype": "text/x-python",
   "name": "python",
   "nbconvert_exporter": "python",
   "pygments_lexer": "ipython3",
   "version": "3.8.5"
  }
 },
 "nbformat": 4,
 "nbformat_minor": 4
}
